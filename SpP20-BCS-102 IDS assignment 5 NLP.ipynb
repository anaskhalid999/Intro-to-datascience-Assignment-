{
 "cells": [
  {
   "cell_type": "code",
   "execution_count": 3,
   "id": "461e8c64",
   "metadata": {},
   "outputs": [
    {
     "name": "stdout",
     "output_type": "stream",
     "text": [
      "['brown', 'enjoy', 'fast', 'fox', 'high', 'jump', 'run', 'state', 'sunshine']\n",
      "[[0 1 0 0 0 0 0 1 2]\n",
      " [2 0 0 2 1 1 1 0 0]\n",
      " [0 0 1 1 0 0 1 1 1]]\n"
     ]
    },
    {
     "name": "stderr",
     "output_type": "stream",
     "text": [
      "C:\\python\\lib\\site-packages\\sklearn\\utils\\deprecation.py:87: FutureWarning: Function get_feature_names is deprecated; get_feature_names is deprecated in 1.0 and will be removed in 1.2. Please use get_feature_names_out instead.\n",
      "  warnings.warn(msg, category=FutureWarning)\n"
     ]
    }
   ],
   "source": [
    "\n",
    "#Q1. Compute the BoW model, TF model, and IDF model for each of the terms in the following three sentences. \n",
    "#Then calculate the TF.IDF values.\n",
    "#S1 “sunshine state enjoy sunshine”\n",
    "#S2 “brown fox jump high, brown fox run”\n",
    "#S3 “sunshine state fox run fast”\n",
    "\n",
    "\n",
    "from sklearn.feature_extraction.text import CountVectorizer, TfidfTransformer,TfidfVectorizer\n",
    "texts = [\"sunshine state enjoy sunshine\",\"brown fox jump high, brown fox run\",\"sunshine state fox run fast\"]\n",
    "bow_vectorizer = CountVectorizer()\n",
    "bow= bow_vectorizer.fit_transform(texts)\n",
    "names=bow_vectorizer.get_feature_names()\n",
    "print(names)\n",
    "print(bow.toarray())\n",
    "\n"
   ]
  },
  {
   "cell_type": "code",
   "execution_count": 4,
   "id": "2d513abd",
   "metadata": {},
   "outputs": [
    {
     "name": "stdout",
     "output_type": "stream",
     "text": [
      "[[0.         0.40824829 0.         0.         0.         0.\n",
      "  0.         0.40824829 0.81649658]\n",
      " [0.60302269 0.         0.         0.60302269 0.30151134 0.30151134\n",
      "  0.30151134 0.         0.        ]\n",
      " [0.         0.         0.4472136  0.4472136  0.         0.\n",
      "  0.4472136  0.4472136  0.4472136 ]]\n"
     ]
    }
   ],
   "source": [
    "tf_transformer = TfidfTransformer(use_idf=False).fit(bow)\n",
    "tf = tf_transformer.transform(bow)\n",
    "print(tf.toarray())\n"
   ]
  },
  {
   "cell_type": "markdown",
   "id": "ad2fde29",
   "metadata": {},
   "source": [
    "="
   ]
  },
  {
   "cell_type": "code",
   "execution_count": 7,
   "id": "d8e0ee4e",
   "metadata": {},
   "outputs": [
    {
     "name": "stdout",
     "output_type": "stream",
     "text": [
      "[[0.         0.50689001 0.         0.         0.         0.\n",
      "  0.         0.38550292 0.77100584]\n",
      " [0.67070313 0.         0.         0.51008702 0.33535157 0.33535157\n",
      "  0.25504351 0.         0.        ]\n",
      " [0.         0.         0.54935123 0.41779577 0.         0.\n",
      "  0.41779577 0.41779577 0.41779577]]\n"
     ]
    }
   ],
   "source": [
    "idf_transformer = TfidfTransformer(smooth_idf=True,use_idf=True).fit(bow)\n",
    "idf = idf_transformer.transform(bow)\n",
    "print(idf.toarray())\n"
   ]
  },
  {
   "cell_type": "code",
   "execution_count": 5,
   "id": "e0ac2b6f",
   "metadata": {},
   "outputs": [
    {
     "name": "stdout",
     "output_type": "stream",
     "text": [
      "[[0.         0.50689001 0.         0.         0.         0.\n",
      "  0.         0.38550292 0.77100584]\n",
      " [0.67070313 0.         0.         0.51008702 0.33535157 0.33535157\n",
      "  0.25504351 0.         0.        ]\n",
      " [0.         0.         0.54935123 0.41779577 0.         0.\n",
      "  0.41779577 0.41779577 0.41779577]]\n"
     ]
    }
   ],
   "source": [
    "vectorizer = TfidfVectorizer()\n",
    "tfidf = vectorizer.fit_transform(texts)\n",
    "print(tfidf.toarray())\n"
   ]
  },
  {
   "cell_type": "code",
   "execution_count": null,
   "id": "59ef811c",
   "metadata": {},
   "outputs": [],
   "source": []
  },
  {
   "cell_type": "code",
   "execution_count": null,
   "id": "a4f5c94c",
   "metadata": {},
   "outputs": [],
   "source": [
    "\n",
    "\n"
   ]
  },
  {
   "cell_type": "code",
   "execution_count": null,
   "id": "23fa4fa7",
   "metadata": {},
   "outputs": [],
   "source": [
    "Q2. Compute the cosine similarity between S1 and S3.\n"
   ]
  },
  {
   "cell_type": "code",
   "execution_count": 10,
   "id": "f7cbab4d",
   "metadata": {},
   "outputs": [
    {
     "name": "stdout",
     "output_type": "stream",
     "text": [
      "Cosine Similarity: 0.5477225575051661\n"
     ]
    }
   ],
   "source": [
    "import numpy as np\n",
    "from numpy.linalg import norm\n",
    "A = np.array([2,1,1,0,0,0])\n",
    "B = np.array([1,1,0,1,1,1])\n",
    "cosine = np.dot(A,B)/(norm(A)*norm(B))\n",
    "print(\"Cosine Similarity:\", cosine)"
   ]
  },
  {
   "cell_type": "code",
   "execution_count": null,
   "id": "31f52dbc",
   "metadata": {},
   "outputs": [],
   "source": []
  }
 ],
 "metadata": {
  "kernelspec": {
   "display_name": "Python 3 (ipykernel)",
   "language": "python",
   "name": "python3"
  },
  "language_info": {
   "codemirror_mode": {
    "name": "ipython",
    "version": 3
   },
   "file_extension": ".py",
   "mimetype": "text/x-python",
   "name": "python",
   "nbconvert_exporter": "python",
   "pygments_lexer": "ipython3",
   "version": "3.9.12"
  }
 },
 "nbformat": 4,
 "nbformat_minor": 5
}
