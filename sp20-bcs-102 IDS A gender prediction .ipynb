{
 "cells": [
  {
   "cell_type": "code",
   "execution_count": 419,
   "id": "e746e86d",
   "metadata": {},
   "outputs": [],
   "source": [
    "\n",
    "\n"
   ]
  },
  {
   "cell_type": "code",
   "execution_count": 142,
   "id": "3044127b",
   "metadata": {},
   "outputs": [
    {
     "data": {
      "text/html": [
       "<div>\n",
       "<style scoped>\n",
       "    .dataframe tbody tr th:only-of-type {\n",
       "        vertical-align: middle;\n",
       "    }\n",
       "\n",
       "    .dataframe tbody tr th {\n",
       "        vertical-align: top;\n",
       "    }\n",
       "\n",
       "    .dataframe thead th {\n",
       "        text-align: right;\n",
       "    }\n",
       "</style>\n",
       "<table border=\"1\" class=\"dataframe\">\n",
       "  <thead>\n",
       "    <tr style=\"text-align: right;\">\n",
       "      <th></th>\n",
       "      <th>height</th>\n",
       "      <th>weight</th>\n",
       "      <th>beard</th>\n",
       "      <th>hair_length</th>\n",
       "      <th>shoe_size</th>\n",
       "      <th>scarf</th>\n",
       "      <th>eye_color</th>\n",
       "      <th>gender</th>\n",
       "    </tr>\n",
       "  </thead>\n",
       "  <tbody>\n",
       "    <tr>\n",
       "      <th>0</th>\n",
       "      <td>71</td>\n",
       "      <td>176</td>\n",
       "      <td>yes</td>\n",
       "      <td>short</td>\n",
       "      <td>44</td>\n",
       "      <td>no</td>\n",
       "      <td>black</td>\n",
       "      <td>male</td>\n",
       "    </tr>\n",
       "    <tr>\n",
       "      <th>1</th>\n",
       "      <td>68</td>\n",
       "      <td>165</td>\n",
       "      <td>no</td>\n",
       "      <td>bald</td>\n",
       "      <td>41</td>\n",
       "      <td>no</td>\n",
       "      <td>black</td>\n",
       "      <td>male</td>\n",
       "    </tr>\n",
       "    <tr>\n",
       "      <th>2</th>\n",
       "      <td>62</td>\n",
       "      <td>132</td>\n",
       "      <td>no</td>\n",
       "      <td>medium</td>\n",
       "      <td>37</td>\n",
       "      <td>yes</td>\n",
       "      <td>blue</td>\n",
       "      <td>female</td>\n",
       "    </tr>\n",
       "    <tr>\n",
       "      <th>3</th>\n",
       "      <td>65</td>\n",
       "      <td>138</td>\n",
       "      <td>no</td>\n",
       "      <td>long</td>\n",
       "      <td>38</td>\n",
       "      <td>no</td>\n",
       "      <td>gray</td>\n",
       "      <td>female</td>\n",
       "    </tr>\n",
       "    <tr>\n",
       "      <th>4</th>\n",
       "      <td>70</td>\n",
       "      <td>197</td>\n",
       "      <td>yes</td>\n",
       "      <td>medium</td>\n",
       "      <td>43</td>\n",
       "      <td>no</td>\n",
       "      <td>gray</td>\n",
       "      <td>male</td>\n",
       "    </tr>\n",
       "    <tr>\n",
       "      <th>...</th>\n",
       "      <td>...</td>\n",
       "      <td>...</td>\n",
       "      <td>...</td>\n",
       "      <td>...</td>\n",
       "      <td>...</td>\n",
       "      <td>...</td>\n",
       "      <td>...</td>\n",
       "      <td>...</td>\n",
       "    </tr>\n",
       "    <tr>\n",
       "      <th>80</th>\n",
       "      <td>61</td>\n",
       "      <td>103</td>\n",
       "      <td>no</td>\n",
       "      <td>long</td>\n",
       "      <td>36</td>\n",
       "      <td>yes</td>\n",
       "      <td>brown</td>\n",
       "      <td>female</td>\n",
       "    </tr>\n",
       "    <tr>\n",
       "      <th>81</th>\n",
       "      <td>72</td>\n",
       "      <td>176</td>\n",
       "      <td>yes</td>\n",
       "      <td>short</td>\n",
       "      <td>40</td>\n",
       "      <td>no</td>\n",
       "      <td>brown</td>\n",
       "      <td>male</td>\n",
       "    </tr>\n",
       "    <tr>\n",
       "      <th>82</th>\n",
       "      <td>65</td>\n",
       "      <td>134</td>\n",
       "      <td>no</td>\n",
       "      <td>medium</td>\n",
       "      <td>42</td>\n",
       "      <td>no</td>\n",
       "      <td>black</td>\n",
       "      <td>female</td>\n",
       "    </tr>\n",
       "    <tr>\n",
       "      <th>83</th>\n",
       "      <td>61</td>\n",
       "      <td>122</td>\n",
       "      <td>no</td>\n",
       "      <td>long</td>\n",
       "      <td>32</td>\n",
       "      <td>yes</td>\n",
       "      <td>black</td>\n",
       "      <td>female</td>\n",
       "    </tr>\n",
       "    <tr>\n",
       "      <th>84</th>\n",
       "      <td>68</td>\n",
       "      <td>150</td>\n",
       "      <td>yes</td>\n",
       "      <td>short</td>\n",
       "      <td>32</td>\n",
       "      <td>no</td>\n",
       "      <td>black</td>\n",
       "      <td>male</td>\n",
       "    </tr>\n",
       "  </tbody>\n",
       "</table>\n",
       "<p>85 rows × 8 columns</p>\n",
       "</div>"
      ],
      "text/plain": [
       "    height  weight beard hair_length  shoe_size scarf eye_color  gender\n",
       "0       71     176   yes       short         44    no     black    male\n",
       "1       68     165    no        bald         41    no     black    male\n",
       "2       62     132    no      medium         37   yes      blue  female\n",
       "3       65     138    no        long         38    no      gray  female\n",
       "4       70     197   yes      medium         43    no      gray    male\n",
       "..     ...     ...   ...         ...        ...   ...       ...     ...\n",
       "80      61     103    no        long         36   yes     brown  female\n",
       "81      72     176   yes       short         40    no     brown    male\n",
       "82      65     134    no      medium         42    no     black  female\n",
       "83      61     122    no        long         32   yes     black  female\n",
       "84      68     150   yes       short         32    no     black    male\n",
       "\n",
       "[85 rows x 8 columns]"
      ]
     },
     "execution_count": 142,
     "metadata": {},
     "output_type": "execute_result"
    }
   ],
   "source": [
    "\n",
    "from sklearn import preprocessing\n",
    "import pandas as pd\n",
    "import numpy as np \n",
    "from sklearn.model_selection import train_test_split\n",
    "dataset=pd.read_csv('gender-prediction.csv')\n",
    "\n",
    "dataset\n",
    "\n",
    "\n",
    "\n",
    "\n"
   ]
  },
  {
   "cell_type": "code",
   "execution_count": 143,
   "id": "60609933",
   "metadata": {},
   "outputs": [],
   "source": [
    "#retrived=dataset[['height','weight','beard','hair_length','scarf','gender']]\n",
    "#retrived\n"
   ]
  },
  {
   "cell_type": "code",
   "execution_count": 144,
   "id": "73af6550",
   "metadata": {},
   "outputs": [
    {
     "data": {
      "text/plain": [
       "0       male\n",
       "1       male\n",
       "2     female\n",
       "3     female\n",
       "4       male\n",
       "       ...  \n",
       "80    female\n",
       "81      male\n",
       "82    female\n",
       "83    female\n",
       "84      male\n",
       "Name: gender, Length: 85, dtype: object"
      ]
     },
     "execution_count": 144,
     "metadata": {},
     "output_type": "execute_result"
    }
   ],
   "source": [
    "\n",
    "\n",
    "X=dataset.drop(['gender'],axis=1)\n",
    "Y=dataset['gender']\n",
    "Y\n",
    "\n",
    "\n",
    "#X=retrived.drop('gender',axis=1)\n",
    "#Y=retrived['gender']\n",
    "#X"
   ]
  },
  {
   "cell_type": "code",
   "execution_count": 145,
   "id": "9fdf5f79",
   "metadata": {},
   "outputs": [
    {
     "name": "stdout",
     "output_type": "stream",
     "text": [
      "[1 1 0 0 1 1 1 1 0 0 0 1 1 0 1 1 1 0 0 0 0 1 1 1 0 1 1 0 0 0 0 1 0 0 0 1 0\n",
      " 1 0 0 0 1 1 1 1 1 1 1 1 1 1 1 1 1 0 1 1 0 1 1 1 1 1 0 0 1 0 1 0 1 0 1 1 0\n",
      " 0 0 0 1 1 0 0 1 0 0 1]\n"
     ]
    }
   ],
   "source": [
    "labels = preprocessing.LabelEncoder()\n",
    "Y = labels.fit_transform(Y)\n",
    "print(Y)"
   ]
  },
  {
   "cell_type": "code",
   "execution_count": 146,
   "id": "a15f74eb",
   "metadata": {},
   "outputs": [
    {
     "data": {
      "text/html": [
       "<div>\n",
       "<style scoped>\n",
       "    .dataframe tbody tr th:only-of-type {\n",
       "        vertical-align: middle;\n",
       "    }\n",
       "\n",
       "    .dataframe tbody tr th {\n",
       "        vertical-align: top;\n",
       "    }\n",
       "\n",
       "    .dataframe thead th {\n",
       "        text-align: right;\n",
       "    }\n",
       "</style>\n",
       "<table border=\"1\" class=\"dataframe\">\n",
       "  <thead>\n",
       "    <tr style=\"text-align: right;\">\n",
       "      <th></th>\n",
       "      <th>height</th>\n",
       "      <th>weight</th>\n",
       "      <th>beard</th>\n",
       "      <th>hair_length</th>\n",
       "      <th>shoe_size</th>\n",
       "      <th>scarf</th>\n",
       "      <th>eye_color</th>\n",
       "    </tr>\n",
       "  </thead>\n",
       "  <tbody>\n",
       "    <tr>\n",
       "      <th>0</th>\n",
       "      <td>71</td>\n",
       "      <td>176</td>\n",
       "      <td>1</td>\n",
       "      <td>1</td>\n",
       "      <td>44</td>\n",
       "      <td>0</td>\n",
       "      <td>0</td>\n",
       "    </tr>\n",
       "    <tr>\n",
       "      <th>1</th>\n",
       "      <td>68</td>\n",
       "      <td>165</td>\n",
       "      <td>0</td>\n",
       "      <td>0</td>\n",
       "      <td>41</td>\n",
       "      <td>0</td>\n",
       "      <td>0</td>\n",
       "    </tr>\n",
       "    <tr>\n",
       "      <th>2</th>\n",
       "      <td>62</td>\n",
       "      <td>132</td>\n",
       "      <td>0</td>\n",
       "      <td>2</td>\n",
       "      <td>37</td>\n",
       "      <td>1</td>\n",
       "      <td>1</td>\n",
       "    </tr>\n",
       "    <tr>\n",
       "      <th>3</th>\n",
       "      <td>65</td>\n",
       "      <td>138</td>\n",
       "      <td>0</td>\n",
       "      <td>3</td>\n",
       "      <td>38</td>\n",
       "      <td>0</td>\n",
       "      <td>2</td>\n",
       "    </tr>\n",
       "    <tr>\n",
       "      <th>4</th>\n",
       "      <td>70</td>\n",
       "      <td>197</td>\n",
       "      <td>1</td>\n",
       "      <td>2</td>\n",
       "      <td>43</td>\n",
       "      <td>0</td>\n",
       "      <td>2</td>\n",
       "    </tr>\n",
       "    <tr>\n",
       "      <th>...</th>\n",
       "      <td>...</td>\n",
       "      <td>...</td>\n",
       "      <td>...</td>\n",
       "      <td>...</td>\n",
       "      <td>...</td>\n",
       "      <td>...</td>\n",
       "      <td>...</td>\n",
       "    </tr>\n",
       "    <tr>\n",
       "      <th>80</th>\n",
       "      <td>61</td>\n",
       "      <td>103</td>\n",
       "      <td>0</td>\n",
       "      <td>3</td>\n",
       "      <td>36</td>\n",
       "      <td>1</td>\n",
       "      <td>3</td>\n",
       "    </tr>\n",
       "    <tr>\n",
       "      <th>81</th>\n",
       "      <td>72</td>\n",
       "      <td>176</td>\n",
       "      <td>1</td>\n",
       "      <td>1</td>\n",
       "      <td>40</td>\n",
       "      <td>0</td>\n",
       "      <td>3</td>\n",
       "    </tr>\n",
       "    <tr>\n",
       "      <th>82</th>\n",
       "      <td>65</td>\n",
       "      <td>134</td>\n",
       "      <td>0</td>\n",
       "      <td>2</td>\n",
       "      <td>42</td>\n",
       "      <td>0</td>\n",
       "      <td>0</td>\n",
       "    </tr>\n",
       "    <tr>\n",
       "      <th>83</th>\n",
       "      <td>61</td>\n",
       "      <td>122</td>\n",
       "      <td>0</td>\n",
       "      <td>3</td>\n",
       "      <td>32</td>\n",
       "      <td>1</td>\n",
       "      <td>0</td>\n",
       "    </tr>\n",
       "    <tr>\n",
       "      <th>84</th>\n",
       "      <td>68</td>\n",
       "      <td>150</td>\n",
       "      <td>1</td>\n",
       "      <td>1</td>\n",
       "      <td>32</td>\n",
       "      <td>0</td>\n",
       "      <td>0</td>\n",
       "    </tr>\n",
       "  </tbody>\n",
       "</table>\n",
       "<p>85 rows × 7 columns</p>\n",
       "</div>"
      ],
      "text/plain": [
       "    height  weight  beard  hair_length  shoe_size  scarf  eye_color\n",
       "0       71     176      1            1         44      0          0\n",
       "1       68     165      0            0         41      0          0\n",
       "2       62     132      0            2         37      1          1\n",
       "3       65     138      0            3         38      0          2\n",
       "4       70     197      1            2         43      0          2\n",
       "..     ...     ...    ...          ...        ...    ...        ...\n",
       "80      61     103      0            3         36      1          3\n",
       "81      72     176      1            1         40      0          3\n",
       "82      65     134      0            2         42      0          0\n",
       "83      61     122      0            3         32      1          0\n",
       "84      68     150      1            1         32      0          0\n",
       "\n",
       "[85 rows x 7 columns]"
      ]
     },
     "execution_count": 146,
     "metadata": {},
     "output_type": "execute_result"
    }
   ],
   "source": [
    "#convert categorical columns into numeric values\n",
    "#for beard\n",
    "X['beard'].replace(['no','yes'],[0,1],inplace=True)\n",
    "\n",
    "#for hair_length\n",
    "X['hair_length'].replace(['bald','short','medium','long'],[0,1,2,3],inplace=True)\n",
    "\n",
    "\n",
    "#for scarf\n",
    "X['scarf'].replace(['no','yes'],[0,1],inplace=True)\n",
    "\n",
    "#for eye_color\n",
    "\n",
    "X['eye_color'].replace(['black','blue','gray','brown','green'],[0,1,2,3,4],inplace=True)\n",
    " \n",
    "X\n"
   ]
  },
  {
   "cell_type": "code",
   "execution_count": null,
   "id": "f3a41f0e",
   "metadata": {},
   "outputs": [],
   "source": []
  },
  {
   "cell_type": "code",
   "execution_count": 147,
   "id": "76c718d1",
   "metadata": {},
   "outputs": [],
   "source": [
    "#X_train, X_test, Y_train, Y_test = train_test_split(X,Y,test_size=0.33,random_state=6,)\n",
    "X_train, X_test, Y_train, Y_test = train_test_split(X,Y,test_size=0.2,random_state=6,)\n"
   ]
  },
  {
   "cell_type": "code",
   "execution_count": 126,
   "id": "978714cb",
   "metadata": {},
   "outputs": [],
   "source": [
    "\n",
    "# Ranndon  forest\n",
    "\n",
    "from sklearn.ensemble import RandomForestClassifier\n",
    "classifyRF=RandomForestClassifier()\n",
    "classifyRF.fit(X_train,Y_train)\n",
    "y_predictRF=classifyRF.predict(X_test)"
   ]
  },
  {
   "cell_type": "code",
   "execution_count": 127,
   "id": "11183366",
   "metadata": {},
   "outputs": [
    {
     "name": "stderr",
     "output_type": "stream",
     "text": [
      "C:\\python\\lib\\site-packages\\sklearn\\neural_network\\_multilayer_perceptron.py:692: ConvergenceWarning: Stochastic Optimizer: Maximum iterations (200) reached and the optimization hasn't converged yet.\n",
      "  warnings.warn(\n"
     ]
    }
   ],
   "source": [
    "# Multilayer preceptron\n",
    "from sklearn.neural_network import MLPClassifier\n",
    "classifyMLP = MLPClassifier()\n",
    "classifyMLP.fit(X_train,Y_train)\n",
    "y_predictMLP=classifyMLP.predict(X_test)\n"
   ]
  },
  {
   "cell_type": "code",
   "execution_count": 128,
   "id": "fb8aa1b6",
   "metadata": {},
   "outputs": [],
   "source": [
    "\n",
    "\n",
    "\n",
    "\n",
    "#Support vector machine\n",
    "from sklearn import svm\n",
    "classifysvm = svm.SVC()\n",
    "classifysvm.fit(X_train,Y_train)\n",
    "y_predictsvm=classifysvm.predict(X_test)\n"
   ]
  },
  {
   "cell_type": "code",
   "execution_count": 129,
   "id": "39390288",
   "metadata": {},
   "outputs": [
    {
     "data": {
      "text/plain": [
       "array([0, 1, 0, 0, 1, 1, 1, 1, 0, 1, 0, 0, 1, 1, 0, 0])"
      ]
     },
     "execution_count": 129,
     "metadata": {},
     "output_type": "execute_result"
    }
   ],
   "source": [
    "Y_test"
   ]
  },
  {
   "cell_type": "code",
   "execution_count": 130,
   "id": "dd272358",
   "metadata": {},
   "outputs": [
    {
     "name": "stdout",
     "output_type": "stream",
     "text": [
      "Accuracy of Random Forest is 93.75\n",
      "[[7 1]\n",
      " [0 8]]\n"
     ]
    }
   ],
   "source": [
    "#accuracy of random forest\n",
    "from sklearn import metrics\n",
    "from sklearn.metrics import accuracy_score \n",
    "RandomForest= accuracy_score(Y_test, y_predictRF)\n",
    "print(\"Accuracy of Random Forest is\",RandomForest*100)\n",
    "print(metrics.confusion_matrix(Y_test, y_predictRF))\n",
    "\n"
   ]
  },
  {
   "cell_type": "code",
   "execution_count": 131,
   "id": "61eed33e",
   "metadata": {},
   "outputs": [
    {
     "name": "stdout",
     "output_type": "stream",
     "text": [
      "Accuracy of MLP is 93.75\n",
      "[[7 1]\n",
      " [0 8]]\n"
     ]
    }
   ],
   "source": [
    "\n",
    "# accuracy of multilayer preceptron\n",
    "MLP= accuracy_score(Y_test, y_predictMLP)\n",
    "print(\"Accuracy of MLP is\",MLP*100)\n",
    "print(metrics.confusion_matrix(Y_test, y_predictMLP))"
   ]
  },
  {
   "cell_type": "code",
   "execution_count": 132,
   "id": "800fa0ba",
   "metadata": {},
   "outputs": [
    {
     "name": "stdout",
     "output_type": "stream",
     "text": [
      "Accuracy of SVM is 75.0\n",
      "[[5 3]\n",
      " [1 7]]\n"
     ]
    }
   ],
   "source": [
    "#accuracy of support vector machine\n",
    "svm= accuracy_score(Y_test, y_predictsvm)\n",
    "print(\"Accuracy of SVM is\",svm*100)\n",
    "print(metrics.confusion_matrix(Y_test, y_predictsvm))\n"
   ]
  },
  {
   "cell_type": "code",
   "execution_count": 151,
   "id": "348d6b80",
   "metadata": {},
   "outputs": [
    {
     "name": "stdout",
     "output_type": "stream",
     "text": [
      "Accuracy of SVM is 76.47058823529412\n",
      "[[4 4]\n",
      " [0 9]]\n",
      "F1_score is: 81.81818181818181\n",
      "precision is: 69.23076923076923\n",
      "recall is: 100.0\n"
     ]
    }
   ],
   "source": [
    "#GaussianNB on 85  instances dataset\n",
    "from sklearn.naive_bayes import GaussianNB\n",
    "from sklearn.metrics import accuracy_score, f1_score,precision_score,recall_score\n",
    "classifier = GaussianNB()\n",
    "classifier.fit(X_train, Y_train)\n",
    "y_predictnaive=classifier.predict(X_test)\n",
    "\n",
    "naive= accuracy_score(Y_test, y_predictnaive)\n",
    "print(\"Accuracy of SVM is\",naive*100)\n",
    "print(metrics.confusion_matrix(Y_test, y_predictnaive))\n",
    "\n",
    "fscore = f1_score(Y_test, y_predictnaive)\n",
    "print(\"F1_score is:\",fscore*100)\n",
    "precisionscore=precision_score(Y_test, y_predictnaive)\n",
    "print(\"precision is:\",precisionscore*100)\n",
    "\n",
    "recallscore=recall_score(Y_test, y_predictnaive)\n",
    "print(\"recall is:\",recallscore*100)"
   ]
  },
  {
   "cell_type": "code",
   "execution_count": 134,
   "id": "dab85bc1",
   "metadata": {},
   "outputs": [
    {
     "name": "stdout",
     "output_type": "stream",
     "text": [
      "Cross validation scores of leave p out: [1.  1.  1.  ... 1.  0.5 0.5]\n",
      "Average CV Score  of leave p out:  0.9406645569620253\n",
      "Cross Validation Scores of monte carlo:  [0.95833333 1.         0.875      1.         0.95833333]\n",
      "Average CV Score of monte carlo:  0.9583333333333334\n"
     ]
    }
   ],
   "source": [
    "\n",
    "from sklearn.tree import DecisionTreeClassifier\n",
    "\n",
    "\n",
    "clf = DecisionTreeClassifier()\n",
    "lpo = LeavePOut(p=2)\n",
    "scores = cross_val_score(clf, X, Y, cv = lpo)\n",
    "print(\"Cross validation scores of leave p out:\",scores)\n",
    "lpo_mean=scores.mean()\n",
    "print(\"Average CV Score  of leave p out: \", lpo_mean)\n",
    "\n",
    "\n",
    "\n",
    "\n",
    "split = ShuffleSplit(train_size=0.6, test_size=0.3, n_splits = 5)\n",
    "scores_split = cross_val_score(clf, X, Y, cv = split)\n",
    "print(\"Cross Validation Scores of monte carlo: \", scores_split)\n",
    "print(\"Average CV Score of monte carlo: \", scores_split.mean())\n",
    "\n",
    "\n",
    "\n",
    "\n",
    "\n"
   ]
  },
  {
   "cell_type": "code",
   "execution_count": null,
   "id": "c9f9f168",
   "metadata": {},
   "outputs": [],
   "source": [
    "\n",
    "\n",
    "\n"
   ]
  }
 ],
 "metadata": {
  "kernelspec": {
   "display_name": "Python 3 (ipykernel)",
   "language": "python",
   "name": "python3"
  },
  "language_info": {
   "codemirror_mode": {
    "name": "ipython",
    "version": 3
   },
   "file_extension": ".py",
   "mimetype": "text/x-python",
   "name": "python",
   "nbconvert_exporter": "python",
   "pygments_lexer": "ipython3",
   "version": "3.9.12"
  }
 },
 "nbformat": 4,
 "nbformat_minor": 5
}
